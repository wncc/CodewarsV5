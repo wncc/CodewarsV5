{
 "cells": [
  {
   "cell_type": "code",
   "execution_count": 9,
   "metadata": {},
   "outputs": [],
   "source": [
    "import cv2\n",
    "import numpy as np\n",
    "import matplotlib.pyplot as plt\n",
    "import pandas as pd"
   ]
  },
  {
   "cell_type": "code",
   "execution_count": 10,
   "metadata": {},
   "outputs": [],
   "source": [
    "def coord(image):\n",
    "    image = cv2.imread(image,cv2.IMREAD_UNCHANGED)\n",
    "    # Ensure image has an alpha channel\n",
    "    if image.shape[2] < 4:\n",
    "        raise ValueError(\"Image does not have an alpha channel\")\n",
    "\n",
    "    # Extract the alpha channel\n",
    "    alpha = image[:, :, 3]\n",
    "\n",
    "    # Find all non-transparent pixels\n",
    "    coords = cv2.findNonZero(alpha)  # Returns coordinates of non-zero (non-transparent) pixels\n",
    "\n",
    "    # Get bounding box for non-transparent region\n",
    "    x, y, w, h = cv2.boundingRect(coords)\n",
    "\n",
    "    return x,y,w,h"
   ]
  },
  {
   "cell_type": "code",
   "execution_count": 11,
   "metadata": {},
   "outputs": [
    {
     "name": "stdout",
     "output_type": "stream",
     "text": [
      "barbarian\n",
      "prince\n",
      "giant\n",
      "minion\n",
      "dragon\n",
      "skeleton\n"
     ]
    }
   ],
   "source": [
    "troops = [\"barbarian\",\"prince\",\"giant\",\"minion\",\"dragon\",\"skeleton\"]\n",
    "data = pd.read_csv(\"/Users/tusharsingharoy/coderoyale/data/image_centers/troops_center.csv\")\n",
    "\n",
    "for troop in troops:\n",
    "    print(troop)\n",
    "    image = f'/Users/tusharsingharoy/coderoyale/data/images/troops/Blue/{troop}_run_n_6.png'\n",
    "    x,y,w,h = coord(image)\n",
    "    new_row = pd.DataFrame({'troop': [troop], 'x': [x], \"y\" : [y], \"w\": [w], \"h\" : [h]})\n",
    "    data = pd.concat([data, new_row], ignore_index=True)\n",
    "data.to_csv(\"/Users/tusharsingharoy/coderoyale/data/image_centers/troops_center.csv\",index=False)"
   ]
  },
  {
   "cell_type": "code",
   "execution_count": 12,
   "metadata": {},
   "outputs": [
    {
     "ename": "error",
     "evalue": "OpenCV(4.9.0) :-1: error: (-5:Bad argument) in function 'circle'\n> Overload resolution failed:\n>  - img is not a numpy array, neither a scalar\n>  - Expected Ptr<cv::UMat> for argument 'img'\n",
     "output_type": "error",
     "traceback": [
      "\u001b[0;31m---------------------------------------------------------------------------\u001b[0m",
      "\u001b[0;31merror\u001b[0m                                     Traceback (most recent call last)",
      "Cell \u001b[0;32mIn[12], line 1\u001b[0m\n\u001b[0;32m----> 1\u001b[0m \u001b[43mcv2\u001b[49m\u001b[38;5;241;43m.\u001b[39;49m\u001b[43mcircle\u001b[49m\u001b[43m(\u001b[49m\u001b[43mimage\u001b[49m\u001b[43m,\u001b[49m\u001b[43m \u001b[49m\u001b[43m(\u001b[49m\u001b[43mx\u001b[49m\u001b[43m,\u001b[49m\u001b[43my\u001b[49m\u001b[43m)\u001b[49m\u001b[43m,\u001b[49m\u001b[43m \u001b[49m\u001b[38;5;241;43m2\u001b[39;49m\u001b[43m,\u001b[49m\u001b[43m \u001b[49m\u001b[43m(\u001b[49m\u001b[38;5;241;43m255\u001b[39;49m\u001b[43m,\u001b[49m\u001b[38;5;241;43m0\u001b[39;49m\u001b[43m,\u001b[49m\u001b[38;5;241;43m0\u001b[39;49m\u001b[43m)\u001b[49m\u001b[43m,\u001b[49m\u001b[43m \u001b[49m\u001b[38;5;241;43m2\u001b[39;49m\u001b[43m)\u001b[49m\n\u001b[1;32m      2\u001b[0m image_rgb \u001b[38;5;241m=\u001b[39mcv2\u001b[38;5;241m.\u001b[39mcvtColor(image, cv2\u001b[38;5;241m.\u001b[39mCOLOR_BGR2RGB)\n\u001b[1;32m      3\u001b[0m plt\u001b[38;5;241m.\u001b[39mimshow(image_rgb)\n",
      "\u001b[0;31merror\u001b[0m: OpenCV(4.9.0) :-1: error: (-5:Bad argument) in function 'circle'\n> Overload resolution failed:\n>  - img is not a numpy array, neither a scalar\n>  - Expected Ptr<cv::UMat> for argument 'img'\n"
     ]
    }
   ],
   "source": [
    "cv2.circle(image, (x,y), 2, (255,0,0), 2)\n",
    "image_rgb =cv2.cvtColor(image, cv2.COLOR_BGR2RGB)\n",
    "plt.imshow(image_rgb)"
   ]
  },
  {
   "cell_type": "code",
   "execution_count": 7,
   "metadata": {},
   "outputs": [
    {
     "data": {
      "text/plain": [
       "x     78\n",
       "y    145\n",
       "w    114\n",
       "h     98\n",
       "Name: giant, dtype: int64"
      ]
     },
     "execution_count": 7,
     "metadata": {},
     "output_type": "execute_result"
    }
   ],
   "source": [
    "data = pd.read_csv(\"/Users/tusharsingharoy/coderoyale/data/image_centers/troops_center.csv\",index_col = 'troop')\n",
    "data.loc['giant']"
   ]
  },
  {
   "cell_type": "code",
   "execution_count": null,
   "metadata": {},
   "outputs": [],
   "source": []
  }
 ],
 "metadata": {
  "kernelspec": {
   "display_name": "Python 3",
   "language": "python",
   "name": "python3"
  },
  "language_info": {
   "codemirror_mode": {
    "name": "ipython",
    "version": 3
   },
   "file_extension": ".py",
   "mimetype": "text/x-python",
   "name": "python",
   "nbconvert_exporter": "python",
   "pygments_lexer": "ipython3",
   "version": "3.11.4"
  }
 },
 "nbformat": 4,
 "nbformat_minor": 2
}
